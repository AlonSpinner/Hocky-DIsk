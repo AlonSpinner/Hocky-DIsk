{
 "cells": [
  {
   "cell_type": "markdown",
   "metadata": {},
   "source": [
    "# Mass-spring-damper system estimation via Kalman Filter\n",
    "\n",
    "![mass-spring-damper](Mass_spring_damper.svg.png)"
   ]
  },
  {
   "cell_type": "code",
   "execution_count": 84,
   "metadata": {},
   "outputs": [],
   "source": [
    "import symforce.symbolic as sf\n",
    "import matplotlib.pyplot as plt\n",
    "import numpy as np\n",
    "\n",
    "from symforce.notebook_util import display\n",
    "# %matplotlib inline"
   ]
  },
  {
   "cell_type": "code",
   "execution_count": 85,
   "metadata": {},
   "outputs": [],
   "source": [
    "# Governing Equation\n",
    "# m * a + c * v + k * x = f\n",
    "# v = dx/dt;  a = dv/dt\n",
    "\n",
    "# STATE \n",
    "# q = [x]\n",
    "#     [v]\n",
    "\n",
    "# STATE DERIVATIVE\n",
    "# qdot = [v]\n",
    "#        [a]\n",
    "\n",
    "# PLUG THINGS IN\n",
    "# qdot = [q1],\n",
    "#         [a]\n",
    "\n",
    "# a = (f - k * x - c * v) / m\n",
    "# a = (f - k * q0 - c * q1)/ m\n",
    "\n",
    "# qdot = [q1]\n",
    "#        [f - k*q0 - c*q1]\n",
    "\n",
    "# LINEAR SYSTEM:\n",
    "# qdot =  [ 1    0]   @  [q0]  +  [ 0 ] @ f\n",
    "#         [-k/m -c/m]    [q1]     [1/m]"
   ]
  },
  {
   "cell_type": "markdown",
   "metadata": {},
   "source": [
    "# Or... we do this with symforce"
   ]
  },
  {
   "cell_type": "code",
   "execution_count": 86,
   "metadata": {},
   "outputs": [
    {
     "name": "stdout",
     "output_type": "stream",
     "text": [
      "A = \n"
     ]
    },
    {
     "data": {
      "text/latex": [
       "$\\displaystyle \\left[\\begin{matrix}0 & 1\\\\- \\frac{k}{m} & - \\frac{c}{m}\\end{matrix}\\right]$"
      ],
      "text/plain": [
       "⎡ 0    1 ⎤\n",
       "⎢        ⎥\n",
       "⎢-k   -c ⎥\n",
       "⎢───  ───⎥\n",
       "⎣ m    m ⎦"
      ]
     },
     "metadata": {},
     "output_type": "display_data"
    },
    {
     "name": "stdout",
     "output_type": "stream",
     "text": [
      "B = \n"
     ]
    },
    {
     "data": {
      "text/latex": [
       "$\\displaystyle \\left[\\begin{matrix}0\\\\\\frac{1}{m}\\end{matrix}\\right]$"
      ],
      "text/plain": [
       "⎡0⎤\n",
       "⎢ ⎥\n",
       "⎢1⎥\n",
       "⎢─⎥\n",
       "⎣m⎦"
      ]
     },
     "metadata": {},
     "output_type": "display_data"
    }
   ],
   "source": [
    "x, v, a, f, m, k, c = sf.symbols('x v a f m k c')\n",
    "\n",
    "q = sf.V2(x, v)\n",
    "qdot = sf.V2(v,a)\n",
    "qdot = qdot.subs(a, (f - k * x - c * v) / m)\n",
    "\n",
    "A = qdot.jacobian(q)\n",
    "B = qdot.jacobian(f)\n",
    "\n",
    "print(\"A = \")\n",
    "display(A)\n",
    "\n",
    "print(\"B = \")\n",
    "display(B)\n"
   ]
  },
  {
   "cell_type": "markdown",
   "metadata": {},
   "source": [
    "# First Task:\n",
    "We want to create a simulation of the mass-spring-damper system: <br>\n",
    "Complete the following code:\n",
    "\n"
   ]
  },
  {
   "cell_type": "code",
   "execution_count": 87,
   "metadata": {},
   "outputs": [],
   "source": [
    "#INITALIZE\n",
    "m = 1.0\n",
    "k = 10.0\n",
    "c = 1.0\n",
    "\n",
    "t_0 = 0\n",
    "dt = 0.01\n",
    "t_final = 10\n",
    "\n",
    "q = np.array([1,1]).reshape(-1,1)\n",
    "A = np.array([[0, 1],\n",
    "             [-k/m, -c/m]])\n",
    "B = np.array([[0],\n",
    "             [1/m]])\n",
    "f = 1.0\n",
    "t_vec =  np.arange(t_0, t_final, dt)\n",
    "x_history = []\n",
    "\n",
    "#SIMULATION\n",
    "for t in t_vec:\n",
    "    #------------YOUR CODE HERE------------------#\n",
    "    #compute qdot, q (you can use euler integration)\n",
    "    qdot = A @ q + B * f\n",
    "    q = q + qdot * dt\n",
    "    #------------YOUR CODE HERE------------------#\n",
    "    \n",
    "    x_history.append(q[0])\n",
    "\n",
    "#PLOT\n",
    "plt.figure()\n",
    "plt.plot(t_vec, x_history)\n",
    "plt.show()"
   ]
  },
  {
   "cell_type": "markdown",
   "metadata": {},
   "source": [
    "# We want to add noisy position measurement and noisy force\n",
    "h(x) ~ Normal (mu = x, std = 0.05) </br>\n",
    "f ~ Normal (mu = 1, std = 3) </br>\n",
    "</br>\n",
    "\n",
    "you can use: </br> \n",
    "np.random.normal(mu,std)"
   ]
  },
  {
   "cell_type": "code",
   "execution_count": 88,
   "metadata": {},
   "outputs": [],
   "source": [
    "#INITALIZE\n",
    "m = 1.0\n",
    "k = 10.0\n",
    "c = 1.0\n",
    "\n",
    "t_0 = 0\n",
    "dt = 0.01\n",
    "t_final = 10\n",
    "\n",
    "A = np.array([[0, 1],\n",
    "             [-k/m, -c/m]])\n",
    "B = np.array([[0],\n",
    "             [1/m]])\n",
    "t_vec =  np.arange(t_0, t_final, dt)\n",
    "\n",
    "q_gt = np.array([1,1]).reshape(-1,1)\n",
    "q_est = np.array([1,1]).reshape(-1,1)\n",
    "\n",
    "x_gt_history = []\n",
    "x_est_history = []\n",
    "z_history = []\n",
    "#SIMULATION\n",
    "for t in t_vec:\n",
    "    # compute qdot_gt, q_gt, z\n",
    "    f_est = 1.0\n",
    "    f_real = np.random.normal(1.0,3)\n",
    "    \n",
    "    #------------YOUR CODE HERE------------------#\n",
    "    #compute qdot_gt, q_gt, qdot_est, q_est and z\n",
    "\n",
    "    qdot_gt = A @ q_gt + B * f_real\n",
    "    q_gt = q_gt + qdot_gt * dt\n",
    "    qdot_est = A @ q_est + B * f_est\n",
    "    q_est = q_est + qdot_est * dt\n",
    "    z = np.random.normal(q_gt[0],0.05)\n",
    "    #------------YOUR CODE HERE------------------#\n",
    "\n",
    "    x_gt_history.append(q_gt[0])\n",
    "    x_est_history.append(q_est[0])\n",
    "    z_history.append(z)\n",
    "\n",
    "#PLOT\n",
    "plt.figure()\n",
    "plt.plot(t_vec, x_gt_history, color = 'blue')\n",
    "plt.plot(t_vec, x_est_history, color = 'black')\n",
    "plt.scatter(t_vec, z_history, s = 1, color = 'red')\n",
    "plt.legend(['x_gt', 'x_est(predict)', 'z'])\n",
    "plt.show()"
   ]
  },
  {
   "cell_type": "markdown",
   "metadata": {},
   "source": [
    "# Lets add the Kalman filter to improve Estimation on x"
   ]
  },
  {
   "cell_type": "code",
   "execution_count": 89,
   "metadata": {},
   "outputs": [
    {
     "name": "stdout",
     "output_type": "stream",
     "text": [
      "Using matplotlib backend: TkAgg\n"
     ]
    }
   ],
   "source": [
    "#INITALIZE\n",
    "m = 1.0\n",
    "k = 10.0\n",
    "c = 1.0\n",
    "\n",
    "t_0 = 0\n",
    "DT = 0.01\n",
    "t_final = 10\n",
    "\n",
    "A_C = np.array([[0, 1],\n",
    "             [-k/m, -c/m]]) \n",
    "\n",
    "B_C = np.array([[0],\n",
    "             [1/m]])\n",
    "\n",
    "#c2d #https://en.wikipedia.org/wiki/Discretization\n",
    "I = np.eye(2)\n",
    "A_D = (I + A_C * DT)\n",
    "B_D = np.linalg.inv(A_C) @ (A_D - I) @ B_C\n",
    "\n",
    "H = np.array([[1.0, 0]])\n",
    "COV_R = np.diag([0.5*(3/m)*DT**2, 0.5*(3/m)*DT])\n",
    "COV_Q = np.array([[0.05**2]])\n",
    "COV_PRIOR = np.eye(2) * 1e-15\n",
    "\n",
    "t_vec =  np.arange(t_0, t_final, DT)\n",
    "\n",
    "q_gt = np.array([1,1]).reshape(-1,1)\n",
    "q_est_mu = np.array([1,1]).reshape(-1,1)\n",
    "q_est_cov = COV_PRIOR\n",
    "\n",
    "x_gt_history = []\n",
    "x_est_history = []\n",
    "z_history = []\n",
    "x_est_std_history = []\n",
    "K_history = []\n",
    "\n",
    "def kalman(q_prev, cov_prev, f, z):\n",
    "    #------------YOUR CODE HERE------------------#\n",
    "    #compute mu, cov, K\n",
    "    #You can use Probablistic Robotics page 36\n",
    "\n",
    "    #predict\n",
    "    mu_bar = A_D @ q_prev + B_D * f\n",
    "    cov_bar = A_D @ cov_prev @ A_D.T + COV_R\n",
    "    \n",
    "    #update\n",
    "    K = cov_bar @ H.T @ np.linalg.inv(H @ cov_bar @ H.T + COV_Q)\n",
    "    mu = mu_bar + K @ (z - H @ mu_bar)\n",
    "    cov = (I - K @ H) @ cov_bar\n",
    "    #------------YOUR CODE HERE------------------#\n",
    "    return mu, cov, K\n",
    "\n",
    "f_est = 1.0\n",
    "#SIMULATION\n",
    "np.random.seed(1)\n",
    "for t in t_vec:\n",
    "    f_real = np.random.normal(f_est,3)\n",
    "    q_gt = A_D @ q_gt + B_D * f_real\n",
    "    z = np.random.normal(q_gt[0],0.05)\n",
    "\n",
    "    q_est_mu, q_est_cov, K = kalman(q_est_mu, q_est_cov ,f_est ,z)\n",
    "\n",
    "    x_gt_history.append(q_gt[0])\n",
    "    x_est_history.append(q_est_mu[0])\n",
    "    x_est_std_history.append(np.sqrt(q_est_cov[0,0]))\n",
    "    z_history.append(z)\n",
    "    K_history.append(K)\n",
    "\n",
    "#PLOT\n",
    "x_est_history = np.array(x_est_history).squeeze()\n",
    "x_est_std_history = np.array(x_est_std_history)\n",
    "\n",
    "# %matplotlib inline\n",
    "%matplotlib auto\n",
    "\n",
    "plt.figure()\n",
    "graphics_est, = plt.plot(t_vec, x_est_history, color = 'black')\n",
    "# plt.plot(t_vec, x_est_history + 1 *x_est_std_history, color = 'black')\n",
    "# plt.plot(t_vec, x_est_history - 1 *x_est_std_history, color = 'black')\n",
    "graphics_z = plt.scatter(t_vec, z_history, s = 1, color = 'red')\n",
    "graphics_gt, = plt.plot(t_vec, x_gt_history, color = 'blue')\n",
    "plt.legend([graphics_gt, graphics_est, graphics_z], ['x_gt', 'x_est', 'z'])\n",
    "plt.title('kalman filter')\n",
    "plt.show()\n"
   ]
  },
  {
   "cell_type": "markdown",
   "metadata": {},
   "source": [
    "## Plot K vs time"
   ]
  },
  {
   "cell_type": "code",
   "execution_count": 90,
   "metadata": {},
   "outputs": [
    {
     "data": {
      "text/plain": [
       "[<matplotlib.lines.Line2D at 0x7f7b229d2070>]"
      ]
     },
     "execution_count": 90,
     "metadata": {},
     "output_type": "execute_result"
    }
   ],
   "source": [
    "\n",
    "plt.plot(t_vec,[K[0,0] for K in K_history], color = 'green')"
   ]
  }
 ],
 "metadata": {
  "kernelspec": {
   "display_name": "Python 3.9.13 ('robotics')",
   "language": "python",
   "name": "python3"
  },
  "language_info": {
   "codemirror_mode": {
    "name": "ipython",
    "version": 3
   },
   "file_extension": ".py",
   "mimetype": "text/x-python",
   "name": "python",
   "nbconvert_exporter": "python",
   "pygments_lexer": "ipython3",
   "version": "3.9.13"
  },
  "orig_nbformat": 4,
  "vscode": {
   "interpreter": {
    "hash": "1fdb8766d72ddf1137248de970de56d05423b85c08b2f51611309e023322e7df"
   }
  }
 },
 "nbformat": 4,
 "nbformat_minor": 2
}
