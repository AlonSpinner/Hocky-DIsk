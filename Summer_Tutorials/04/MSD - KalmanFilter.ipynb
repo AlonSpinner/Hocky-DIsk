{
 "cells": [
  {
   "cell_type": "markdown",
   "metadata": {},
   "source": [
    "# Mass-spring-damper system estimation via Kalman Filter\n",
    "\n",
    "[<img src=\"Mass_spring_damper.png\" width=\"250\"/>](Mass_spring_damper.png)"
   ]
  },
  {
   "cell_type": "code",
   "execution_count": 37,
   "metadata": {},
   "outputs": [],
   "source": [
    "import symforce.symbolic as sf\n",
    "import matplotlib.pyplot as plt\n",
    "import numpy as np\n",
    "\n",
    "from symforce.notebook_util import display\n",
    "# %matplotlib inline"
   ]
  },
  {
   "cell_type": "markdown",
   "metadata": {},
   "source": [
    "# Developing the Equations of Motion"
   ]
  },
  {
   "cell_type": "code",
   "execution_count": 38,
   "metadata": {},
   "outputs": [],
   "source": [
    "# Governing Equation\n",
    "# m * a + c * v + k * x = f\n",
    "# v = dx/dt;  a = dv/dt\n",
    "\n",
    "# STATE \n",
    "# q = [x]\n",
    "#     [v]\n",
    "\n",
    "# STATE DERIVATIVE\n",
    "# qdot = [v]\n",
    "#        [a]\n",
    "\n",
    "# PLUG THINGS IN\n",
    "# qdot = [q1],\n",
    "#         [a]\n",
    "\n",
    "# a = (f - k * x - c * v) / m\n",
    "# a = (f - k * q0 - c * q1)/ m\n",
    "\n",
    "# qdot = [q1]\n",
    "#        [f - k*q0 - c*q1]\n",
    "\n",
    "# LINEAR SYSTEM:\n",
    "# qdot =  [ 1    0]   @  [q0]  +  [ 0 ] @ f\n",
    "#         [-k/m -c/m]    [q1]     [1/m]"
   ]
  },
  {
   "cell_type": "markdown",
   "metadata": {},
   "source": [
    "## Or... we do this with symforce"
   ]
  },
  {
   "cell_type": "code",
   "execution_count": 39,
   "metadata": {},
   "outputs": [
    {
     "name": "stdout",
     "output_type": "stream",
     "text": [
      "A = \n"
     ]
    },
    {
     "data": {
      "text/latex": [
       "$\\displaystyle \\left[\\begin{matrix}0 & 1\\\\- \\frac{k}{m} & - \\frac{c}{m}\\end{matrix}\\right]$"
      ],
      "text/plain": [
       "⎡ 0    1 ⎤\n",
       "⎢        ⎥\n",
       "⎢-k   -c ⎥\n",
       "⎢───  ───⎥\n",
       "⎣ m    m ⎦"
      ]
     },
     "metadata": {},
     "output_type": "display_data"
    },
    {
     "name": "stdout",
     "output_type": "stream",
     "text": [
      "B = \n"
     ]
    },
    {
     "data": {
      "text/latex": [
       "$\\displaystyle \\left[\\begin{matrix}0\\\\\\frac{1}{m}\\end{matrix}\\right]$"
      ],
      "text/plain": [
       "⎡0⎤\n",
       "⎢ ⎥\n",
       "⎢1⎥\n",
       "⎢─⎥\n",
       "⎣m⎦"
      ]
     },
     "metadata": {},
     "output_type": "display_data"
    }
   ],
   "source": [
    "x, v, a, f, m, k, c = sf.symbols('x v a f m k c')\n",
    "\n",
    "q = sf.V2(x, v)\n",
    "qdot = sf.V2(v,a)\n",
    "qdot = qdot.subs(a, (f - k * x - c * v) / m)\n",
    "\n",
    "A = qdot.jacobian(q)\n",
    "B = qdot.jacobian(f)\n",
    "\n",
    "print(\"A = \")\n",
    "display(A)\n",
    "\n",
    "print(\"B = \")\n",
    "display(B)\n"
   ]
  },
  {
   "cell_type": "markdown",
   "metadata": {},
   "source": [
    "# First Task:\n",
    "We want to create a simulation of the mass-spring-damper system: <br>\n",
    "Complete the following code:\n",
    "\n"
   ]
  },
  {
   "cell_type": "code",
   "execution_count": 40,
   "metadata": {},
   "outputs": [],
   "source": [
    "#INITALIZE\n",
    "m = 1.0\n",
    "k = 10.0\n",
    "c = 1.0\n",
    "\n",
    "#State Space\n",
    "A = np.array([[0, 1],\n",
    "             [-k/m, -c/m]])\n",
    "B = np.array([[0],\n",
    "             [1/m]])\n",
    "\n",
    "#Time Vector\n",
    "t_0 = 0\n",
    "dt = 0.01\n",
    "t_final = 10\n",
    "t_vec =  np.arange(t_0, t_final, dt)\n",
    "\n",
    "#constant force\n",
    "f = 1.0\n",
    "\n",
    "#initial state\n",
    "q = np.array([1,1]).reshape(-1,1) \n",
    "\n",
    "history = {'x': []}\n",
    "#SIMULATION\n",
    "for t in t_vec:\n",
    "    #------------YOUR CODE HERE------------------#\n",
    "    #compute qdot, q (you can use euler integration y_(k+1) = y_k + dx * y'_k)\n",
    "    qdot = A @ q + B * f\n",
    "    q = q + qdot * dt\n",
    "    #------------YOUR CODE HERE------------------#\n",
    "    \n",
    "    #save position measurement\n",
    "    history['x'].append(q[0])\n",
    "\n",
    "#PLOT\n",
    "plt.figure()\n",
    "plt.plot(t_vec, history['x'])\n",
    "plt.grid(True)\n",
    "plt.show()"
   ]
  },
  {
   "cell_type": "markdown",
   "metadata": {},
   "source": [
    "# Second Task\n",
    "We want to add noisy position measurement and noisy force </br>\n",
    "h(x) ~ Normal (mu = x, std = 0.05) </br>\n",
    "f ~ Normal (mu = 1, std = 3) </br>\n",
    "</br>\n",
    "\n",
    "complete the following code: </br>\n",
    "you can use: </br> \n",
    "np.random.normal(mu,std)"
   ]
  },
  {
   "cell_type": "code",
   "execution_count": 41,
   "metadata": {},
   "outputs": [],
   "source": [
    "#INITALIZE\n",
    "m = 1.0\n",
    "k = 10.0\n",
    "c = 1.0\n",
    "\n",
    "#State Space\n",
    "A = np.array([[0, 1],\n",
    "             [-k/m, -c/m]])\n",
    "B = np.array([[0],\n",
    "             [1/m]])\n",
    "\n",
    "#Time Vector\n",
    "t_0 = 0.0\n",
    "dt = 0.01\n",
    "t_final = 10\n",
    "t_vec =  np.arange(t_0, t_final, dt)\n",
    "\n",
    "#constant force\n",
    "f_nominal = 1.0\n",
    "\n",
    "#inital state\n",
    "q_gt = np.array([1,1]).reshape(-1,1)\n",
    "q_predict = np.array([1,1]).reshape(-1,1)\n",
    "\n",
    "history = {'x_gt': [], 'x_predict': [], 'z': []}\n",
    "#SIMULATION\n",
    "for t in t_vec:\n",
    "    #------------YOUR CODE HERE------------------#\n",
    "    #compute f_real from f_nominal\n",
    "    f_real = np.random.normal(f_nominal,3)\n",
    "    \n",
    "    #compute q_gt with euler integration using f_real\n",
    "    qdot_gt = A @ q_gt + B * f_real\n",
    "    q_gt = q_gt + qdot_gt * dt\n",
    "\n",
    "    #compute compute q_predict with euler integration using f_nominal\n",
    "    qdot_predict = A @ q_predict + B * f_nominal\n",
    "    q_predict = q_predict + qdot_predict * dt\n",
    "\n",
    "    #compute z using q_gt \n",
    "    z = np.random.normal(q_gt[0],0.05)\n",
    "    #------------YOUR CODE HERE------------------#\n",
    "\n",
    "    history['x_gt'].append(q_gt[0])\n",
    "    history['x_predict'].append(q_predict[0])\n",
    "    history['z'].append(z)\n",
    "\n",
    "#PLOT\n",
    "plt.figure()\n",
    "plt.plot(t_vec, history['x_gt'], color = 'blue')\n",
    "plt.plot(t_vec, history['x_predict'], color = 'black')\n",
    "plt.scatter(t_vec, history['z'], s = 1, color = 'red')\n",
    "plt.legend(['x_gt', 'x_predict', 'z'])\n",
    "plt.grid(True)\n",
    "plt.show()"
   ]
  },
  {
   "cell_type": "markdown",
   "metadata": {},
   "source": [
    "# Third Task\n",
    "\n",
    "Estiamte the position using a Kalman Filter </br>\n",
    "Complete the following code:"
   ]
  },
  {
   "cell_type": "code",
   "execution_count": 42,
   "metadata": {},
   "outputs": [
    {
     "name": "stdout",
     "output_type": "stream",
     "text": [
      "Using matplotlib backend: TkAgg\n"
     ]
    }
   ],
   "source": [
    "#INITALIZE\n",
    "m = 1.0\n",
    "k = 10.0\n",
    "c = 1.0\n",
    "\n",
    "#State Space\n",
    "A = np.array([[0, 1],\n",
    "             [-k/m, -c/m]])\n",
    "B = np.array([[0],\n",
    "             [1/m]])\n",
    "\n",
    "#Time Vector\n",
    "t_0 = 0.0\n",
    "dt = 0.01\n",
    "t_final = 10\n",
    "t_vec =  np.arange(t_0, t_final, dt)\n",
    "\n",
    "\n",
    "#KALMAN PARAMTERS - c2d #https://en.wikipedia.org/wiki/Discretization\n",
    "I = np.eye(2)\n",
    "A_D = (I + A * dt)\n",
    "B_D = dt * B\n",
    "\n",
    "H = np.array([[1.0, 0]])\n",
    "COV_R = np.diag([0.5*(3/m)*dt**2, 0.5*(3/m)*dt])\n",
    "COV_Q = np.array([[0.05**2]])\n",
    "COV_PRIOR = np.eye(2) * 1e-15\n",
    "\n",
    "#constant force\n",
    "f_nominal = 1.0\n",
    "\n",
    "#inital state\n",
    "q_gt = np.array([1,1]).reshape(-1,1)\n",
    "q_est_mu = np.array([1,1]).reshape(-1,1)\n",
    "q_est_cov = COV_PRIOR\n",
    "\n",
    "\n",
    "def kalman(q_prev, cov_prev, f, z):\n",
    "    #------------YOUR CODE HERE------------------#\n",
    "    #compute mu, cov, K\n",
    "    #You can use Probablistic Robotics page 36\n",
    "        #Use the A_D, B_D, H, COV_R, COV_Q and I in your solution\n",
    "\n",
    "    #predict\n",
    "    mu_bar = A_D @ q_prev + B_D * f\n",
    "    cov_bar = A_D @ cov_prev @ A_D.T + COV_R\n",
    "    \n",
    "    #update\n",
    "    K = cov_bar @ H.T @ np.linalg.inv(H @ cov_bar @ H.T + COV_Q)\n",
    "    mu = mu_bar + K @ (z - H @ mu_bar)\n",
    "    cov = (I - K @ H) @ cov_bar\n",
    "    #------------YOUR CODE HERE------------------#\n",
    "    return mu, cov, K\n",
    "\n",
    "history = {'x_gt': [],\n",
    "            'x_est': [],\n",
    "            'x_est_std': [],\n",
    "            'z': [],\n",
    "            'K': [],\n",
    "            }\n",
    "#SIMULATION\n",
    "np.random.seed(1)\n",
    "for t in t_vec:\n",
    "    f_real = np.random.normal(f_nominal,3)\n",
    "    q_gt = A_D @ q_gt + B_D * f_real\n",
    "    z = np.random.normal(q_gt[0],0.05)\n",
    "\n",
    "    q_est_mu, q_est_cov, K = kalman(q_est_mu, q_est_cov ,f_nominal ,z)\n",
    "\n",
    "    history['x_gt'].append(q_gt[0,0])\n",
    "    history['x_est'].append(q_est_mu[0,0])\n",
    "    history['x_est_std'].append(np.sqrt(q_est_cov[0,0]))\n",
    "    history['z'].append(z)\n",
    "    history['K'].append(K)\n",
    "\n",
    "#PLOT\n",
    "# %matplotlib inline\n",
    "%matplotlib auto\n",
    "\n",
    "plt.figure()\n",
    "graphics_est, = plt.plot(t_vec, history['x_est'], color = 'black')\n",
    "graphics_z = plt.scatter(t_vec, history['z'], s = 1, color = 'red')\n",
    "graphics_gt, = plt.plot(t_vec, history['x_gt'], color = 'blue')\n",
    "grpahics_K0, = plt.plot(t_vec,[K[0,0] for K in history['K']], color = 'green')\n",
    "grpahics_K1, = plt.plot(t_vec,[K[1,0] for K in history['K']], color = 'yellow')\n",
    "plt.legend([graphics_gt, graphics_est, graphics_z, grpahics_K0, grpahics_K1], ['x_gt', 'x_est', 'z', 'K[0]', 'K[1]'])\n",
    "plt.title('kalman filter')\n",
    "plt.show()\n",
    "plt.grid(True)\n"
   ]
  }
 ],
 "metadata": {
  "kernelspec": {
   "display_name": "Python 3.9.12 ('robotics')",
   "language": "python",
   "name": "python3"
  },
  "language_info": {
   "codemirror_mode": {
    "name": "ipython",
    "version": 3
   },
   "file_extension": ".py",
   "mimetype": "text/x-python",
   "name": "python",
   "nbconvert_exporter": "python",
   "pygments_lexer": "ipython3",
   "version": "3.9.12"
  },
  "orig_nbformat": 4,
  "vscode": {
   "interpreter": {
    "hash": "ba0cca5811018ec647e5c8941624e3657644ffead5f073e2c4ecf157d86ee74e"
   }
  }
 },
 "nbformat": 4,
 "nbformat_minor": 2
}
