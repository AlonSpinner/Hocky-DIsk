{
 "cells": [
  {
   "cell_type": "code",
   "execution_count": 1,
   "metadata": {},
   "outputs": [],
   "source": [
    "import gtsam\n",
    "from gtsam.symbol_shorthand import X\n",
    "import numpy as np\n",
    "import matplotlib.pyplot as plt\n",
    "from numpy import random\n",
    "import graphviz\n",
    "\n",
    "from plot_gtsam import plot_pose\n",
    "\n",
    "from typing import Optional, List\n",
    "from functools import partial"
   ]
  },
  {
   "cell_type": "markdown",
   "metadata": {},
   "source": [
    "# Define Constants"
   ]
  },
  {
   "cell_type": "code",
   "execution_count": 2,
   "metadata": {},
   "outputs": [],
   "source": [
    "# Create noise models\n",
    "COV_R = np.diag([0.5,0.1,0.1]) #MODEL\n",
    "COV_Q = np.diag([0.5,0.5]) # MEASUREMENT\n",
    "COV_PRIOR = np.diag([0.5,0.5,0.5])\n",
    "\n",
    "GTSAM_COV_PRIOR = gtsam.noiseModel.Gaussian.Covariance(COV_PRIOR)\n",
    "GTSAM_COV_R = gtsam.noiseModel.Gaussian.Covariance(COV_R)\n",
    "GTSAM_COV_Q = gtsam.noiseModel.Gaussian.Covariance(COV_Q)"
   ]
  },
  {
   "cell_type": "markdown",
   "metadata": {},
   "source": [
    "# Simulate and Measure"
   ]
  },
  {
   "cell_type": "code",
   "execution_count": 3,
   "metadata": {},
   "outputs": [],
   "source": [
    "twist = np.array([1.0 ,0.0 ,2 * np.pi/30]) #[vx,vy,omega]\n",
    "dt = 1.0 #[s]\n",
    "tau = dt * twist\n",
    "\n",
    "p_gt = gtsam.Pose2(0.0 , 0.0 , 0.0) \n",
    "\n",
    "history = {\"gt\": [p_gt], \"u\": [], \"z\": []}\n",
    "np.random.seed(1)\n",
    "for ii in range(30):\n",
    "    p_gt = p_gt.compose(gtsam.Pose2.Expmap(tau))\n",
    "    \n",
    "    u = random.multivariate_normal(tau,COV_R)\n",
    "    z = random.multivariate_normal(p_gt.translation(),COV_Q)\n",
    "\n",
    "    history[\"gt\"].append(p_gt)\n",
    "    history[\"u\"].append(u)\n",
    "    history[\"z\"].append(z)"
   ]
  },
  {
   "cell_type": "markdown",
   "metadata": {},
   "source": [
    "# Define gps factor"
   ]
  },
  {
   "cell_type": "code",
   "execution_count": 4,
   "metadata": {},
   "outputs": [],
   "source": [
    "def error_gps(measurement: np.ndarray, this: gtsam.CustomFactor,\n",
    "              values: gtsam.Values,\n",
    "              jacobians: Optional[List[np.ndarray]]) -> float:\n",
    "    \"\"\"GPS Factor error function\n",
    "    :param measurement: GPS measurement, to be filled with `partial`\n",
    "    :param this: gtsam.CustomFactor handle\n",
    "    :param values: gtsam.Values\n",
    "    :param jacobians: Optional list of Jacobians\n",
    "    :return: the unwhitened error\n",
    "    \"\"\"\n",
    "    key = this.keys()[0]\n",
    "    estimate = values.atPose2(key)\n",
    "    error = estimate.translation() - measurement\n",
    "\n",
    "    if jacobians is not None:\n",
    "        t = estimate.theta()\n",
    "        jacobians[0] = np.array([[np.cos(t), -np.sin(t) ,0], \n",
    "                                 [np.sin(t), np.cos(t), 0]])\n",
    "\n",
    "    return error"
   ]
  },
  {
   "cell_type": "markdown",
   "metadata": {},
   "source": [
    "# Build Factor-Graph"
   ]
  },
  {
   "cell_type": "code",
   "execution_count": 5,
   "metadata": {},
   "outputs": [],
   "source": [
    "graph = gtsam.NonlinearFactorGraph()\n",
    "graph.add(gtsam.PriorFactorPose2(X(0), history[\"gt\"][0], GTSAM_COV_PRIOR))\n",
    "\n",
    "for i, (u_i, z_ip1) in enumerate(zip(history[\"u\"],history[\"z\"])):\n",
    "    graph.add(gtsam.BetweenFactorPose2(X(i), X(i+1), gtsam.Pose2.Expmap(u_i), GTSAM_COV_R))\n",
    "    graph.add(gtsam.CustomFactor(GTSAM_COV_Q, \n",
    "                                 [X(i+1)], \n",
    "                                 partial(error_gps, z_ip1)))\n",
    "\n",
    "graph.add(gtsam.BetweenFactorPose2(X(i+1), X(0), gtsam.Pose2.Expmap(np.zeros(3)), GTSAM_COV_R))"
   ]
  },
  {
   "cell_type": "markdown",
   "metadata": {},
   "source": [
    "# View graph in graph.pdf\n",
    "\n",
    "$ sudo apt install graphviz  (if errors)"
   ]
  },
  {
   "cell_type": "code",
   "execution_count": 6,
   "metadata": {},
   "outputs": [
    {
     "data": {
      "text/plain": [
       "'graph_Pose2.pdf'"
      ]
     },
     "execution_count": 6,
     "metadata": {},
     "output_type": "execute_result"
    }
   ],
   "source": [
    "graph.saveGraph(\"graph_Pose2\")\n",
    "graphviz.render('dot','pdf',\"graph_Pose2\") #creates PDF"
   ]
  },
  {
   "cell_type": "markdown",
   "metadata": {},
   "source": [
    "# Create initial values from dead reckoning (for solver)"
   ]
  },
  {
   "cell_type": "code",
   "execution_count": 7,
   "metadata": {},
   "outputs": [],
   "source": [
    "p_dr = history[\"gt\"][0]\n",
    "history[\"dr\"] = [p_dr] #add dead reckoning to history dictionary for later plots\n",
    "\n",
    "initial_estimate = gtsam.Values()\n",
    "initial_estimate.insert(X(0), p_dr)\n",
    "\n",
    "for i, u_i in enumerate(history[\"u\"]):\n",
    "    p_dr = p_dr * gtsam.Pose2.Expmap(u_i)  #X1 = X0 * exp(u0)\n",
    "    \n",
    "    initial_estimate.insert(X(i+1), p_dr)\n",
    "\n",
    "    history[\"dr\"].append(p_dr)"
   ]
  },
  {
   "cell_type": "markdown",
   "metadata": {},
   "source": [
    "# Optimize"
   ]
  },
  {
   "cell_type": "code",
   "execution_count": 8,
   "metadata": {},
   "outputs": [],
   "source": [
    "params = gtsam.LevenbergMarquardtParams()\n",
    "optimizer = gtsam.LevenbergMarquardtOptimizer(graph, initial_estimate,params)\n",
    "\n",
    "result = optimizer.optimize()\n",
    "marginals = gtsam.Marginals(graph, result)"
   ]
  },
  {
   "cell_type": "markdown",
   "metadata": {},
   "source": [
    "# plot"
   ]
  },
  {
   "cell_type": "code",
   "execution_count": 13,
   "metadata": {},
   "outputs": [
    {
     "name": "stdout",
     "output_type": "stream",
     "text": [
      "Using matplotlib backend: TkAgg\n"
     ]
    }
   ],
   "source": [
    "%matplotlib auto\n",
    "\n",
    "fig = plt.figure()\n",
    "ax = fig.add_subplot(111)\n",
    "ax.set_xlabel('x'); ax.set_ylabel('y'); \n",
    "ax.set_aspect('equal'); ax.grid()\n",
    "ax.set_title('factor graph smoothing')\n",
    "\n",
    "for p_gt in history[\"gt\"]:\n",
    "    ax.scatter(p_gt.x(), p_gt.y(), color = 'k', s = 40)\n",
    "for z in history[\"z\"]:\n",
    "    ax.scatter(z[0],z[1],color='r', s = 5)\n",
    "\n",
    "for i, p_dr in enumerate(history[\"dr\"]):\n",
    "    p_est = result.atPose2(X(i))\n",
    "    p_est_cov = marginals.marginalCovariance(X(i))\n",
    "    plot_pose(ax, p_est, p_est_cov, 0.5)\n",
    "    ax.text(p_est.x(),p_est.y(), i)\n",
    "    ax.scatter(p_dr.x(), p_dr.y(), color = 'b', s = 5)"
   ]
  }
 ],
 "metadata": {
  "kernelspec": {
   "display_name": "Python 3.9.13 ('robotics')",
   "language": "python",
   "name": "python3"
  },
  "language_info": {
   "codemirror_mode": {
    "name": "ipython",
    "version": 3
   },
   "file_extension": ".py",
   "mimetype": "text/x-python",
   "name": "python",
   "nbconvert_exporter": "python",
   "pygments_lexer": "ipython3",
   "version": "3.9.13"
  },
  "orig_nbformat": 4,
  "vscode": {
   "interpreter": {
    "hash": "1fdb8766d72ddf1137248de970de56d05423b85c08b2f51611309e023322e7df"
   }
  }
 },
 "nbformat": 4,
 "nbformat_minor": 2
}
