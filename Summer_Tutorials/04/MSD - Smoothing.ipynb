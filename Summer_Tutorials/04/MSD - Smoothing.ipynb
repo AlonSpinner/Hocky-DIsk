{
 "cells": [
  {
   "cell_type": "markdown",
   "metadata": {},
   "source": [
    "# Smoothing solution to the MSD "
   ]
  },
  {
   "cell_type": "code",
   "execution_count": 1,
   "metadata": {},
   "outputs": [],
   "source": [
    "import gtsam\n",
    "from typing import Optional, List\n",
    "from functools import partial\n",
    "from gtsam.symbol_shorthand import X\n",
    "import numpy as np\n",
    "import graphviz\n",
    "import matplotlib.pyplot as plt"
   ]
  },
  {
   "cell_type": "markdown",
   "metadata": {},
   "source": [
    "# Create factors functions"
   ]
  },
  {
   "cell_type": "code",
   "execution_count": 2,
   "metadata": {},
   "outputs": [],
   "source": [
    "m = 1.0\n",
    "k = 10.0\n",
    "c = 1.0\n",
    "\n",
    "A = np.array([[0, 1],\n",
    "             [-k/m, -c/m]])\n",
    "B = np.array([[0],\n",
    "             [1/m]])\n",
    "DT = 0.01\n",
    "\n",
    "def error_odom(f_nom: np.ndarray, this: gtsam.CustomFactor,\n",
    "               values: gtsam.Values,\n",
    "               jacobians: Optional[List[np.ndarray]]) -> float:\n",
    "    \"\"\"Odometry Factor error function\n",
    "    :param measurement: Odometry measurement, to be filled with `partial`\n",
    "    :param this: gtsam.CustomFactor handle\n",
    "    :param values: gtsam.Values\n",
    "    :param jacobians: Optional list of Jacobians\n",
    "    :return: the unwhitened error\n",
    "    \"\"\"\n",
    "    key1 = this.keys()[0]\n",
    "    key2 = this.keys()[1]\n",
    "    q1 = values.atVector(key1).reshape(-1,1) \n",
    "    q2 = values.atVector(key2).reshape(-1,1)\n",
    "\n",
    "    qdot1 = A @ q1 + B * f_nom\n",
    "    q2_predict = q1 + qdot1 * DT\n",
    "\n",
    "    error = q2 - q2_predict\n",
    "\n",
    "    #jacobians of h\n",
    "    if jacobians is not None:\n",
    "        jacobians[0] = - (np.eye(2) + A * DT)\n",
    "        jacobians[1] =  np.eye(2)\n",
    "\n",
    "    return error\n",
    "\n",
    "def error_z(measurement: np.ndarray, this: gtsam.CustomFactor,\n",
    "              values: gtsam.Values,\n",
    "              jacobians: Optional[List[np.ndarray]]) -> float:\n",
    "    key = this.keys()[0]\n",
    "    estimate = values.atVector(key)[0]\n",
    "    error = estimate - measurement\n",
    "\n",
    "    if jacobians is not None:\n",
    "        jacobians[0] = np.array([[1.0, 0.0]])\n",
    "\n",
    "    return error"
   ]
  },
  {
   "cell_type": "markdown",
   "metadata": {},
   "source": [
    "# Constants"
   ]
  },
  {
   "cell_type": "code",
   "execution_count": 3,
   "metadata": {},
   "outputs": [],
   "source": [
    "COV_R = np.eye(2) * 1e-1\n",
    "COV_Q = np.array([[0.05**2]]) * 1e2\n",
    "COV_PRIOR = np.eye(2) * 1e-15\n",
    "\n",
    "GTSAM_COV_PRIOR = gtsam.noiseModel.Gaussian.Covariance(COV_PRIOR)\n",
    "GTSAM_COV_R = gtsam.noiseModel.Gaussian.Covariance(COV_R)\n",
    "GTSAM_COV_Q = gtsam.noiseModel.Gaussian.Covariance(COV_Q)"
   ]
  },
  {
   "cell_type": "markdown",
   "metadata": {},
   "source": [
    "# Simulation for data gathering"
   ]
  },
  {
   "cell_type": "code",
   "execution_count": 4,
   "metadata": {},
   "outputs": [],
   "source": [
    "#INITALIZE\n",
    "t_0 = 0\n",
    "t_final = 10\n",
    "t_vec =  np.arange(t_0, t_final, DT)\n",
    "\n",
    "q = np.array([1,1]).reshape(-1,1)\n",
    "history = {\"gt\": [q], \"u\": [], \"z\": []}\n",
    "\n",
    "f_nom = 1.0\n",
    "#SIMULATION\n",
    "for t in t_vec[1:]:\n",
    "    f_real = np.random.normal(f_nom,3)\n",
    "\n",
    "    qdot = A @ q + B * f_real\n",
    "    q = q + qdot * DT\n",
    "    z = np.random.normal(q[0],0.05)\n",
    "\n",
    "    history[\"u\"].append(f_nom)\n",
    "    history[\"z\"].append(z)\n",
    "    history[\"gt\"].append(q)"
   ]
  },
  {
   "cell_type": "markdown",
   "metadata": {},
   "source": [
    "# Building the factor graph"
   ]
  },
  {
   "cell_type": "code",
   "execution_count": 5,
   "metadata": {},
   "outputs": [],
   "source": [
    "graph = gtsam.NonlinearFactorGraph()\n",
    "\n",
    "for i, (u_i, z_ip1) in enumerate(zip(history[\"u\"],history[\"z\"])):\n",
    "    graph.add(gtsam.CustomFactor(GTSAM_COV_R, \n",
    "                                 [X(i), X(i+1)], \n",
    "                                 partial(error_odom, u_i)))\n",
    "    graph.add(gtsam.CustomFactor(GTSAM_COV_Q, \n",
    "                                 [X(i+1)], \n",
    "                                 partial(error_z, z_ip1)))"
   ]
  },
  {
   "cell_type": "code",
   "execution_count": 6,
   "metadata": {},
   "outputs": [
    {
     "data": {
      "text/plain": [
       "'graph_MSD.pdf'"
      ]
     },
     "execution_count": 6,
     "metadata": {},
     "output_type": "execute_result"
    }
   ],
   "source": [
    "graph.saveGraph(\"graph_MSD\")\n",
    "graphviz.render('dot','pdf',\"graph_MSD\") #creates PDF"
   ]
  },
  {
   "cell_type": "markdown",
   "metadata": {},
   "source": [
    "# Initalizing inital values for solver"
   ]
  },
  {
   "cell_type": "code",
   "execution_count": 7,
   "metadata": {},
   "outputs": [],
   "source": [
    "q_dr = history[\"gt\"][0]\n",
    "history[\"dr\"] = [q_dr] #add dead reckoning to history dictionary for later plots\n",
    "\n",
    "initial_estimate = gtsam.Values()\n",
    "initial_estimate.insert(X(0), q_dr)\n",
    "\n",
    "for i, u_i in enumerate(history[\"u\"]):\n",
    "    qdot_dr = A @ q_dr + B * f_nom\n",
    "    q_dr = q_dr + qdot_dr * DT\n",
    "    \n",
    "    initial_estimate.insert(X(i+1), q_dr)\n",
    "\n",
    "    history[\"dr\"].append(q_dr)"
   ]
  },
  {
   "cell_type": "markdown",
   "metadata": {},
   "source": [
    "# Solving with the optimizer"
   ]
  },
  {
   "cell_type": "code",
   "execution_count": 8,
   "metadata": {},
   "outputs": [],
   "source": [
    "params = gtsam.GaussNewtonParams()\n",
    "optimizer = gtsam.GaussNewtonOptimizer(graph, initial_estimate,params)\n",
    "\n",
    "result = optimizer.optimize()\n",
    "marginals = gtsam.Marginals(graph, result)"
   ]
  },
  {
   "cell_type": "markdown",
   "metadata": {},
   "source": [
    "# Plot"
   ]
  },
  {
   "cell_type": "code",
   "execution_count": 9,
   "metadata": {},
   "outputs": [
    {
     "name": "stdout",
     "output_type": "stream",
     "text": [
      "Using matplotlib backend: <object object at 0x7faf83112680>\n"
     ]
    },
    {
     "name": "stderr",
     "output_type": "stream",
     "text": [
      "/home/cear20/LocalInstalls/miniconda3/envs/robotics/lib/python3.9/site-packages/numpy/ma/core.py:2826: VisibleDeprecationWarning: Creating an ndarray from ragged nested sequences (which is a list-or-tuple of lists-or-tuples-or ndarrays with different lengths or shapes) is deprecated. If you meant to do this, you must specify 'dtype=object' when creating the ndarray.\n",
      "  _data = np.array(data, dtype=dtype, copy=copy,\n"
     ]
    }
   ],
   "source": [
    "# %matplotlib inline\n",
    "%matplotlib auto\n",
    "\n",
    "gt = [_[0] for _ in history[\"gt\"]]\n",
    "ests = np.array([result.atVector(X(i))[0] for i in range(len(t_vec))])\n",
    "stds = np.array([np.sqrt(marginals.marginalCovariance(X(i))[0,0]) for i in range(len(t_vec))])\n",
    "z = [np.nan] + [_ for _ in history[\"z\"]]\n",
    "\n",
    "plt.figure()\n",
    "graphics_est, = plt.plot(t_vec, ests, color = 'black')\n",
    "plt.plot(t_vec, ests + 1 *stds, color = 'black')\n",
    "plt.plot(t_vec, ests - 1 *stds, color = 'black')\n",
    "graphics_z = plt.scatter(t_vec, z, s = 1, color = 'red')\n",
    "graphics_gt, = plt.plot(t_vec, gt, color = 'blue')\n",
    "plt.legend([graphics_gt, graphics_est, graphics_z], ['x_gt', 'x_est', 'z'])\n",
    "plt.title('factor graph smoothing')\n",
    "plt.show()\n"
   ]
  }
 ],
 "metadata": {
  "kernelspec": {
   "display_name": "Python 3.9.12 ('robotics')",
   "language": "python",
   "name": "python3"
  },
  "language_info": {
   "codemirror_mode": {
    "name": "ipython",
    "version": 3
   },
   "file_extension": ".py",
   "mimetype": "text/x-python",
   "name": "python",
   "nbconvert_exporter": "python",
   "pygments_lexer": "ipython3",
   "version": "3.9.12"
  },
  "orig_nbformat": 4,
  "vscode": {
   "interpreter": {
    "hash": "ba0cca5811018ec647e5c8941624e3657644ffead5f073e2c4ecf157d86ee74e"
   }
  }
 },
 "nbformat": 4,
 "nbformat_minor": 2
}
